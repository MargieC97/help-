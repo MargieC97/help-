pip install qiskit
pip install qiskit_aer
from qiskit import *
import random
from qiskit_aer import AerSimulator

def initialize(num_qubits):
  qc = QuantumCircuit(num_qubits)
  return qc

def get_message():
  msg = []
  for i in range (0,2):
    bit_value = random.choice([0,1])
    msg.append(bit_value)
  print("The message is", msg)
  return msg

def bell_pair(qc):
  assert qc.num_qubits ==2
  qc.h(1)
  qc.cx(1,0)
  qc.barrier()
  return qc

def encode(qc, msg):
  if msg[0]==1:
    qc.z(0)
  if msg[1]==1:
    qc.x(0)
  qc.barrier()
  return qc

def decode(qc):
  qc.cx(0,1)
  qc.h(0)
  qc.measure_all()
  return qc

num_qubits =2
msg = get_message()
qc = initialize(num_qubits)
qc = bell_pair(qc)
qc = encode(qc,msg)
qc = decode(qc)
print(qc)

simulator = AerSimulator()
qc_transpiled = transpile(qc, simulator)

qc_result = simulator.run(qc_transpiled).result()
qc_counts = qc_result.get_counts(qc_transpiled)
#note that because the endianness is flipped, the message appears backwards
print("The message (backwards) was", qc_counts)
